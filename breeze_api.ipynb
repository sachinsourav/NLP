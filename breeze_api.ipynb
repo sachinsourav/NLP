{
 "cells": [
  {
   "cell_type": "code",
   "execution_count": 7,
   "id": "be433147",
   "metadata": {},
   "outputs": [],
   "source": [
    "#pip install breeze-connect\n",
    "# API KEY\n",
    "# =44f266H2q504B99168375+89=$9_666\n",
    "\n",
    "# Secret Key\n",
    "# 9042939h#s!rnP158s7J032w24PLe668\n",
    "\n",
    "# API_Session: 40214612\n",
    "# user_id: 7484942040"
   ]
  },
  {
   "cell_type": "code",
   "execution_count": 8,
   "id": "e5c69ee5",
   "metadata": {},
   "outputs": [],
   "source": [
    "from breeze_connect import BreezeConnect\n",
    "import urllib"
   ]
  },
  {
   "cell_type": "code",
   "execution_count": 9,
   "id": "8d17ed61",
   "metadata": {},
   "outputs": [],
   "source": [
    "## initialize SDK connecting with breeze API\n",
    "breeze = BreezeConnect(api_key = \"=44f266H2q504B99168375+89=$9_666\" )"
   ]
  },
  {
   "cell_type": "code",
   "execution_count": 10,
   "id": "94893bac",
   "metadata": {},
   "outputs": [],
   "source": [
    "breeze.generate_session(api_secret = \"9042939h#s!rnP158s7J032w24PLe668\",\n",
    "                        session_token = \"40214612\")"
   ]
  },
  {
   "cell_type": "code",
   "execution_count": 11,
   "id": "f43586ce",
   "metadata": {},
   "outputs": [
    {
     "data": {
      "text/plain": [
       "{'Success': {'bank_account': '195601504652',\n",
       "  'total_bank_balance': 0.0,\n",
       "  'allocated_equity': 0.0,\n",
       "  'allocated_fno': 0.0,\n",
       "  'allocated_commodity': 0.0,\n",
       "  'allocated_currency': 0.0,\n",
       "  'block_by_trade_equity': 0.0,\n",
       "  'block_by_trade_fno': 0.0,\n",
       "  'block_by_trade_commodity': 0.0,\n",
       "  'block_by_trade_currency': 0.0,\n",
       "  'block_by_trade_balance': 0.0,\n",
       "  'unallocated_balance': '554013.06'},\n",
       " 'Status': 200,\n",
       " 'Error': None}"
      ]
     },
     "execution_count": 11,
     "metadata": {},
     "output_type": "execute_result"
    }
   ],
   "source": [
    "breeze.get_funds()"
   ]
  },
  {
   "cell_type": "code",
   "execution_count": 12,
   "id": "55a97d85",
   "metadata": {},
   "outputs": [
    {
     "data": {
      "text/plain": [
       "{'Success': None, 'Status': 200, 'Error': 'No Positions available.'}"
      ]
     },
     "execution_count": 12,
     "metadata": {},
     "output_type": "execute_result"
    }
   ],
   "source": [
    "breeze.get_portfolio_positions()"
   ]
  },
  {
   "cell_type": "code",
   "execution_count": 13,
   "id": "31fa250a",
   "metadata": {},
   "outputs": [
    {
     "data": {
      "text/plain": [
       "'=44f266H2q504B99168375+89=$9_666'"
      ]
     },
     "execution_count": 13,
     "metadata": {},
     "output_type": "execute_result"
    }
   ],
   "source": [
    "breeze.api_key"
   ]
  },
  {
   "cell_type": "code",
   "execution_count": 18,
   "id": "103b6a25",
   "metadata": {},
   "outputs": [
    {
     "data": {
      "text/plain": [
       "{'Success': {'exg_trade_date': {'NSE': '08-May-2024',\n",
       "   'BSE': '08-May-2024',\n",
       "   'FNO': '08-May-2024',\n",
       "   'NDX': '08-May-2024'},\n",
       "  'exg_status': {'NSE': 'X', 'BSE': 'X', 'FNO': 'Y', 'NDX': 'O'},\n",
       "  'segments_allowed': {'Trading': 'Y',\n",
       "   'Equity': 'Y',\n",
       "   'Derivatives': 'Y',\n",
       "   'Currency': 'Z'},\n",
       "  'idirect_userid': 'AF415020',\n",
       "  'idirect_user_name': 'SAHIL   KUMAR',\n",
       "  'idirect_ORD_TYP': '',\n",
       "  'idirect_lastlogin_time': '08-May-2024 15:35:37',\n",
       "  'mf_holding_mode_popup_flg': 'N',\n",
       "  'commodity_exchange_status': 'Y',\n",
       "  'commodity_trade_date': '08-May-2024',\n",
       "  'commodity_allowed': 'X'},\n",
       " 'Status': 200,\n",
       " 'Error': None}"
      ]
     },
     "execution_count": 18,
     "metadata": {},
     "output_type": "execute_result"
    }
   ],
   "source": [
    "breeze.get_customer_details(\"40214612\")"
   ]
  },
  {
   "cell_type": "code",
   "execution_count": 19,
   "id": "7df96df2",
   "metadata": {},
   "outputs": [
    {
     "data": {
      "text/plain": [
       "{'Success': {'bank_account': '195601504652',\n",
       "  'total_bank_balance': 0.0,\n",
       "  'allocated_equity': 0.0,\n",
       "  'allocated_fno': 0.0,\n",
       "  'allocated_commodity': 0.0,\n",
       "  'allocated_currency': 0.0,\n",
       "  'block_by_trade_equity': 0.0,\n",
       "  'block_by_trade_fno': 0.0,\n",
       "  'block_by_trade_commodity': 0.0,\n",
       "  'block_by_trade_currency': 0.0,\n",
       "  'block_by_trade_balance': 0.0,\n",
       "  'unallocated_balance': '554013.06'},\n",
       " 'Status': 200,\n",
       " 'Error': None}"
      ]
     },
     "execution_count": 19,
     "metadata": {},
     "output_type": "execute_result"
    }
   ],
   "source": [
    "breeze.get_quotes()"
   ]
  },
  {
   "cell_type": "code",
   "execution_count": 25,
   "id": "acfbdab2",
   "metadata": {},
   "outputs": [],
   "source": [
    "## Documentation requried\n",
    "x = breeze.get_stock_script_list()\n",
    "x"
   ]
  },
  {
   "cell_type": "code",
   "execution_count": 28,
   "id": "3057edb6",
   "metadata": {},
   "outputs": [
    {
     "data": {
      "text/plain": [
       "{'Success': '', 'Status': 500, 'Error': 'Exchange-Code cannot be empty'}"
      ]
     },
     "execution_count": 28,
     "metadata": {},
     "output_type": "execute_result"
    }
   ],
   "source": [
    "##\n",
    "breeze.get_trade_list(from_date='2024-05-01',\n",
    "    to_date='2024-05-10')"
   ]
  },
  {
   "cell_type": "code",
   "execution_count": 30,
   "id": "e2dd3c03",
   "metadata": {},
   "outputs": [
    {
     "data": {
      "text/plain": [
       "'AF415020'"
      ]
     },
     "execution_count": 30,
     "metadata": {},
     "output_type": "execute_result"
    }
   ],
   "source": [
    "breeze.user_id"
   ]
  },
  {
   "cell_type": "code",
   "execution_count": null,
   "id": "437d056e",
   "metadata": {},
   "outputs": [],
   "source": []
  }
 ],
 "metadata": {
  "kernelspec": {
   "display_name": "Python 3 (ipykernel)",
   "language": "python",
   "name": "python3"
  },
  "language_info": {
   "codemirror_mode": {
    "name": "ipython",
    "version": 3
   },
   "file_extension": ".py",
   "mimetype": "text/x-python",
   "name": "python",
   "nbconvert_exporter": "python",
   "pygments_lexer": "ipython3",
   "version": "3.9.7"
  }
 },
 "nbformat": 4,
 "nbformat_minor": 5
}
